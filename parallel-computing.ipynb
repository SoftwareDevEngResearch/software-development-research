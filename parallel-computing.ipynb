{
 "cells": [
  {
   "cell_type": "raw",
   "id": "0de597bb-44fd-40dd-9b28-cbd387069fb2",
   "metadata": {},
   "source": [
    "---\n",
    "title: \"Introduction to parallel computing\"\n",
    "author: \"Kyle Niemeyer\"\n",
    "date: \"24 February 2025\"\n",
    "institute: \"Oregon State University\"\n",
    "format:\n",
    "  revealjs:\n",
    "    output-file: parallel-computing-revealjs.html\n",
    "    incremental: true\n",
    "    fig-align: center\n",
    "    fig-responsive: true\n",
    "    toc: false\n",
    "    code-block-height: 650px\n",
    "  html: default\n",
    "jupyter: python3\n",
    "highlight-style: arrow\n",
    "execute:\n",
    "  echo: true\n",
    "---"
   ]
  },
  {
   "cell_type": "markdown",
   "id": "f41c6fb7-5cb6-4861-82ec-78b378a90def",
   "metadata": {},
   "source": [
    "# Introduction to parallel computing (in Python)\n",
    "\n",
    "::: fragment\n",
    "If you want more, check out CS 475/575 Parallel Programming.\n",
    ":::\n",
    "\n",
    "## Approaching parallelism\n",
    "\n",
    "- How do I do many things at once?\n",
    "- How do I do one thing faster?\n",
    "\n",
    "::: fragment\n",
    "Computer: perform many simultaneous tasks\n",
    ":::\n",
    "\n",
    "::: fragment\n",
    "Developer: determine dependencies between code and data\n",
    ":::\n",
    "\n",
    "## \n",
    "\n",
    "::: fragment\n",
    "Up until now: serial thinking, like \"x then y then z\"\n",
    ":::\n",
    "\n",
    "::: fragment\n",
    "Benefit of parallelism: problems execute faster—sometimes **much** faster.\n",
    ":::\n",
    "\n",
    "::: fragment\n",
    "Downside to parallelism: harder to program, debug, open files, print to screen.\n",
    ":::\n",
    "\n",
    "## Why go parallel?\n",
    "\n",
    "::: {.fragment .callout-important}\n",
    "First: wait until your code works and you need it.\n",
    "::: \n",
    "\n",
    "- The problem creates or requires too much data for a normal machine.\n",
    "- The sun would explode before the computation would finish.\n",
    "- The algorithm is easy to parallelize.\n",
    "- The physics itself cannot be simulated at all with smaller resources."
   ]
  },
  {
   "cell_type": "markdown",
   "id": "5cf829e7-9a8a-47f8-aa52-b5648708b003",
   "metadata": {},
   "source": [
    "# Scale and scalability\n",
    "\n",
    "![\"Scale and Scalability\" book cover](./images/sense-and-sensibility.jpg)\n",
    "\n",
    "## Scale and scalability\n",
    "\n",
    "::: fragment\n",
    "**Scale**: size of problem\n",
    "::: \n",
    "\n",
    "::: fragment\n",
    "Scale is proportional to number of processes $P$ used, and thus the maximum *degree of parallelism* possible.\n",
    "::: \n",
    "\n",
    "::: fragment\n",
    "**FLOPS**: number of floating-point operations per second\n",
    "::: \n",
    "\n",
    "## Scaling up code\n",
    "\n",
    "::: fragment\n",
    "Scale up slowly—start with one processor, then 10, 100, etc.\n",
    "::: \n",
    "\n",
    "::: fragment\n",
    "**scalability**: how easy or hard it is to scale code\n",
    "::: \n",
    "\n",
    "## Strong scaling\n",
    "\n",
    "**strong scaling**: how runtime changes as a function of processor number for a fixed total problem size.\n",
    "\n",
    "::: fragment\n",
    "speedup $s$ ratio of time on one processor ($t_1$) to time on $P$ processors ($t_P$):\n",
    "\n",
    "$$\n",
    "s(P) = \\frac{t_1}{t_P}\n",
    "$$\n",
    ":::\n",
    "\n",
    "## Strong scaling\n",
    "\n",
    "Efficient system: linear strong scaling speedup.\n",
    "\n",
    "::: fragment\n",
    "For example, [PyFR](http://www.pyfr.org/) computational fluid dynamics code:\n",
    ":::\n",
    "\n",
    "![Ref: P Vincent et al. \"PyFR: Next-Generation High-Order Computational Fluid Dynamics on Many-Core Hardware.\" 22nd AIAA CFD Conference. 2015.](./images/pyfr-strongscaling.png){.r-stretch .fragment}\n",
    "\n",
    "## Weak scaling\n",
    "\n",
    "**weak scaling**: how runtime changes as a function of processor number for a fixed problem size per processor\n",
    "\n",
    "::: fragment\n",
    "sizeup $z$ for a problem size $N$:\n",
    "\n",
    "$$\n",
    "z(P) = \\frac{t_1}{t_P} \\times \\frac{N_P}{N_1} \n",
    "$$\n",
    ":::\n",
    "\n",
    "## Weak scaling\n",
    "\n",
    "Efficient system: linear sizeup. Or, constant time with additional processors/problem size. \n",
    "\n",
    "::: fragment\n",
    "For example, [PyFR](http://www.pyfr.org/) computational fluid dynamics code:\n",
    ":::\n",
    "\n",
    "![Ref: P Vincent et al. \"PyFR: Next-Generation High-Order Computational Fluid Dynamics on Many-Core Hardware.\" 22nd AIAA CFD Conference. 2015.](./images/pyfr-weakscaling.png){.r-stretch .fragment}\n",
    "\n",
    "## Amdahl's Law\n",
    "\n",
    "Some fraction of an algorithm, $α$, cannot be parallelized. \n",
    "\n",
    "::: fragment\n",
    "Then, the maximum speedup/sizeup for $P$ processors is:\n",
    "\n",
    "$$\n",
    "\\max( s(P) ) = \\frac{1}{\\alpha - \\frac{1-\\alpha}{P}} \n",
    "$$\n",
    "::: \n",
    "\n",
    "::: fragment\n",
    "The theoretically max speedup is:\n",
    "\n",
    "$$\n",
    "\\max(s) = \\frac{1}{\\alpha}\n",
    "$$\n",
    ":::\n",
    "\n",
    "## Types of problems\n",
    "\n",
    "::: fragment\n",
    "**embarassingly parallel**: algorithms with a high degree of independence and little communication between parts\n",
    "::: \n",
    "\n",
    "::: fragment\n",
    "Examples: summing large arrays, matrix multiplication, Monte Carlo simulations, some optimization approaches (e.g., stochastic and genetic algorithms)\n",
    "::: \n",
    "\n",
    "::: fragment\n",
    "Other algorithms have unavoidable bottlenecks: inverting a matrix, ODE integration, etc.\n",
    "::: \n",
    "\n",
    "::: fragment\n",
    "Not all hope is lost! Some parts may still benefit from parallelization.\n",
    "::: "
   ]
  },
  {
   "cell_type": "markdown",
   "id": "8df7b9fe-877f-4f83-909f-2a816678bb68",
   "metadata": {},
   "source": [
    "# Example: N-body problem\n",
    "\n",
    "::: fragment\n",
    "Generalization of the classic two-body problem that governs the equations of motion for two masses. From Newton's law of gravity:\n",
    "\n",
    "$$\n",
    "\\frac{dp}{dt} = G \\frac{m_1 m_2}{r^2}\n",
    "$$\n",
    ":::\n",
    "\n",
    "## Equations of motion\n",
    "\n",
    "$$\n",
    "\\begin{align}\n",
    "\\mathbf{x}_{i,s} &= G \\sum_{j=1, i \\neq j} \\frac{m_j (\\mathbf{x}_{j,s-1} - \\mathbf{x}_{i,s-1})}{||\\mathbf{x}_{j,s-1} - \\mathbf{x}_{i,s-1}||^3} \\Delta t^2 + \\mathbf{v}_{i,s-1} \\Delta t + \\mathbf{x}_{i,s-1} \\\\\n",
    "\\mathbf{v}_{i,s} &= G \\sum_{j=1, i \\neq j} \\frac{m_j (\\mathbf{x}_{j,s-1} - \\mathbf{x}_{i,s-1})}{||\\mathbf{x}_{j,s-1} - \\mathbf{x}_{i,s-1}||^3} \\Delta t + \\mathbf{v}_{i,s-1}\n",
    "\\end{align}\n",
    "$$\n",
    "\n",
    "## No parallelism"
   ]
  },
  {
   "cell_type": "code",
   "execution_count": 2,
   "id": "71aefb75-11e9-4ee8-b511-3088b7687057",
   "metadata": {},
   "outputs": [],
   "source": [
    "import numpy as np\n",
    "\n",
    "def remove_i(x, i):\n",
    "    \"\"\"Drops the ith element of an array.\"\"\"\n",
    "    shape = (x.shape[0]-1,) + x.shape[1:]\n",
    "    y = np.empty(shape, dtype=float)\n",
    "    y[:i] = x[:i]\n",
    "    y[i:] = x[i+1:]\n",
    "    return y\n",
    "\n",
    "def a(i, x, G, m):\n",
    "    \"\"\"The acceleration of the ith mass.\"\"\"\n",
    "    x_i = x[i]\n",
    "    x_j = remove_i(x, i) # don't compute on itself\n",
    "    m_j = remove_i(m, i)\n",
    "    diff = x_j - x_i\n",
    "    mag3 = np.sum(diff**2, axis=1)**1.5\n",
    "    # compute acceleration on ith mass\n",
    "    result = G * np.sum(diff * (m_j / mag3)[:,np.newaxis], axis=0)\n",
    "    return result"
   ]
  },
  {
   "cell_type": "markdown",
   "id": "8fd54e8a-df5b-495e-94b4-88e6d5c090c5",
   "metadata": {},
   "source": [
    "---"
   ]
  },
  {
   "cell_type": "code",
   "execution_count": 3,
   "id": "d1873619-130f-4fc5-9112-94ad31e9ef5a",
   "metadata": {},
   "outputs": [],
   "source": [
    "def timestep(x0, v0, G, m, dt):\n",
    "    \"\"\"Computes the next position and velocity for all masses given\n",
    "    initial conditions and a time step size.\n",
    "    \"\"\"\n",
    "    N = len(x0)\n",
    "    x1 = np.empty(x0.shape, dtype=float)\n",
    "    v1 = np.empty(v0.shape, dtype=float)\n",
    "    for i in range(N): # update locations for all masses each step\n",
    "        a_i0 = a(i, x0, G, m)\n",
    "        v1[i] = a_i0 * dt + v0[i]\n",
    "        x1[i] = a_i0 * dt**2 + v0[i] * dt + x0[i]\n",
    "    return x1, v1\n",
    "\n",
    "def initial_cond(N, D):\n",
    "    \"\"\"Generates initial conditions for N unity masses at rest\n",
    "    starting at random positions in D-dimensional space.\n",
    "    \"\"\"\n",
    "    x0 = np.random.rand(N, D) # use random initial locations\n",
    "    v0 = np.zeros((N, D), dtype=float)\n",
    "    m = np.ones(N, dtype=float)\n",
    "    return x0, v0, m"
   ]
  },
  {
   "cell_type": "markdown",
   "id": "604354c8-3c5c-4240-a454-461ad460e220",
   "metadata": {},
   "source": [
    "---\n",
    "\n",
    "Generating initial conditions and taking one timestep:"
   ]
  },
  {
   "cell_type": "code",
   "execution_count": 6,
   "id": "b59fba1f-96f3-4492-8a5e-25e71489e119",
   "metadata": {},
   "outputs": [],
   "source": [
    "#| classes: fragment\n",
    "#| output-location: fragment\n",
    "x0, v0, m = initial_cond(10, 2)\n",
    "x1, v1 = timestep(x0, v0, 1.0, m, 1.0e-3)"
   ]
  },
  {
   "cell_type": "markdown",
   "id": "1c8fa4ca-bc11-4412-9f1d-c77932348460",
   "metadata": {},
   "source": [
    "::: fragment\n",
    "Driver function that simulates $S$ time steps:\n",
    ":::"
   ]
  },
  {
   "cell_type": "code",
   "execution_count": 4,
   "id": "303cd40d-f6ff-4bdd-a0e2-17ea337ebe5c",
   "metadata": {},
   "outputs": [],
   "source": [
    "#| classes: fragment\n",
    "def simulate(N, D, S, G, dt):\n",
    "    x0, v0, m = initial_cond(N, D)\n",
    "    for s in range(S):\n",
    "        x1, v1 = timestep(x0, v0, G, m, dt)\n",
    "        x0, v0 = x1, v1"
   ]
  },
  {
   "cell_type": "markdown",
   "id": "8c0aa2b3-2631-4353-9d67-8667cefeeac2",
   "metadata": {},
   "source": [
    "## Measuring performance"
   ]
  },
  {
   "cell_type": "code",
   "execution_count": 9,
   "id": "f23c4c7d-7e75-487e-92ad-64eaab126ae7",
   "metadata": {},
   "outputs": [],
   "source": [
    "#| classes: fragment\n",
    "#| output-location: fragment\n",
    "import time\n",
    "Ns = [2, 4, 8, 16, 32, 64, 128, 256, 512, 1024, 2048, 4096]\n",
    "runtimes = []\n",
    "for N in Ns:\n",
    "    start = time.time()\n",
    "    simulate(N, 3, 300, 1.0, 1e-3)\n",
    "    stop = time.time()\n",
    "    runtimes.append(stop - start)"
   ]
  },
  {
   "cell_type": "markdown",
   "id": "549a2257-6b59-4575-832d-d9e8a483e59f",
   "metadata": {},
   "source": [
    "---"
   ]
  },
  {
   "cell_type": "code",
   "execution_count": 14,
   "id": "ae7e8177-6c06-45fe-86da-5f63643bf9af",
   "metadata": {},
   "outputs": [
    {
     "data": {
      "image/png": "[encoded data removed]",
      "text/plain": [
       "<Figure size 640x480 with 1 Axes>"
      ]
     },
     "metadata": {},
     "output_type": "display_data"
    }
   ],
   "source": [
    "#| output-location: fragment\n",
    "import matplotlib.pyplot as plt\n",
    "plt.plot(Ns, runtimes, 'o')\n",
    "plt.grid(True)\n",
    "plt.show()"
   ]
  },
  {
   "cell_type": "markdown",
   "id": "7e13f6be-46ed-49b3-811e-fb019ddf7f18",
   "metadata": {},
   "source": [
    "::: fragment\n",
    "Does the problem scale quadratically?\n",
    ":::\n",
    "\n",
    "## Threads\n",
    "\n",
    "- Threads perform work and are not blocked by work of other threads.\n",
    "- Threads can communicate with each other through state\n",
    "\n",
    "\n",
    "## Threads: probably don't use in Python.\n",
    "\n",
    "- All threads execute in the same process as Python itself.\n",
    "- Where to use? If you have high latency tasks where you can use spare time for another task (e.g., downloading a large file)\n",
    "\n",
    "\n",
    "## N-body with threading"
   ]
  },
  {
   "cell_type": "code",
   "execution_count": 5,
   "id": "0cabbab0-2f3a-47ec-a256-afa99e2a3702",
   "metadata": {},
   "outputs": [],
   "source": [
    "from threading import Thread\n",
    "\n",
    "class Worker(Thread):\n",
    "    \"\"\"Computes x, v, and a of the ith body.\"\"\"\n",
    "    def __init__(self, *args, **kwargs):\n",
    "        super(Worker, self).__init__(*args, **kwargs)\n",
    "        self.inputs = [] # buffer of work for thraeds\n",
    "        self.results = [] # buffer of return values\n",
    "        self.running = True # setting to False causes run() to end safely\n",
    "        self.daemon = True # allow thread to be terminated with Python\n",
    "        self.start()\n",
    "\n",
    "    def run(self):\n",
    "        while self.running:\n",
    "            if len(self.inputs) == 0: # check for work\n",
    "                continue\n",
    "            i, x0, v0, G, m, dt = self.inputs.pop(0)\n",
    "            a_i0 = a(i, x0, G, m) # body of original timestep()\n",
    "            v_i1 = a_i0 * dt + v0[i]\n",
    "            x_i1 = a_i0 * dt**2 + v0[i] * dt + x0[i]\n",
    "            result = (i, x_i1, v_i1)\n",
    "            self.results.append(result)"
   ]
  },
  {
   "cell_type": "markdown",
   "id": "e5666f5c-dc3d-4324-9412-32b0c6360266",
   "metadata": {},
   "source": [
    "## Thread pools {.smaller}\n",
    "\n",
    "Expensive to create and start threads, so create pool that persists."
   ]
  },
  {
   "cell_type": "code",
   "execution_count": 25,
   "id": "30a6be65-5a4e-4e99-a8ed-9e9558643cc0",
   "metadata": {},
   "outputs": [],
   "source": [
    "class Pool(object):\n",
    "    \"\"\"A collection of P worker threads that distributes tasks\n",
    "    evenly across them.\n",
    "    \"\"\"\n",
    "    def __init__(self, size):\n",
    "        self.size = size\n",
    "        # create new workers based on size\n",
    "        self.workers = [Worker() for p in range(size)]\n",
    "\n",
    "    def do(self, tasks):\n",
    "        for p in range(self.size):\n",
    "            self.workers[p].inputs += tasks[p::self.size] # evenly distribute tasks\n",
    "        while any([len(worker.inputs) != 0 for worker in self.workers]):\n",
    "            pass # wait for all workers to finish\n",
    "        results = []\n",
    "        for worker in self.workers: # get results back from workers\n",
    "            results += worker.results\n",
    "            worker.results.clear()\n",
    "        return results # return complete list of results for all inputs\n",
    "\n",
    "    def __del__(self): # stop workers when pool is shut down\n",
    "        for worker in self.workers:\n",
    "            worker.running = False"
   ]
  },
  {
   "cell_type": "code",
   "execution_count": null,
   "id": "0aaecd8f-7670-4c66-8d95-4614a8359aa4",
   "metadata": {},
   "outputs": [],
   "source": []
  },
  {
   "cell_type": "markdown",
   "id": "c983111f-13b2-4094-9f84-1053f1dfcd8a",
   "metadata": {},
   "source": [
    "---"
   ]
  },
  {
   "cell_type": "code",
   "execution_count": 26,
   "id": "c7e51c19-f1f2-4c17-b835-fc72bcad32a2",
   "metadata": {},
   "outputs": [],
   "source": [
    "def timestep(x0, v0, G, m, dt, pool):\n",
    "    \"\"\"Computes the next position and velocity for all masses given\n",
    "    initial conditions and a time step size.\n",
    "    \"\"\"\n",
    "    N = len(x0)\n",
    "    tasks = [(i, x0, v0, G, m, dt) for i in range(N)] # create task for each body\n",
    "    results = pool.do(tasks) # run tasks\n",
    "    x1 = np.empty(x0.shape, dtype=float)\n",
    "    v1 = np.empty(v0.shape, dtype=float)\n",
    "    for i, x_i1, v_i1 in results: # rearrange results (probably not in order)\n",
    "        x1[i] = x_i1\n",
    "        v1[i] = v_i1\n",
    "    return x1, v1\n",
    "\n",
    "def simulate(P, N, D, S, G, dt):\n",
    "    x0, v0, m = initial_cond(N, D)\n",
    "    pool = Pool(P)\n",
    "    for s in range(S):\n",
    "        x1, v1 = timestep(x0, v0, G, m, dt, pool)\n",
    "        x0, v0 = x1, v1"
   ]
  },
  {
   "cell_type": "markdown",
   "id": "e70b6f42-ac10-4b92-aa12-7752ff2c95da",
   "metadata": {},
   "source": [
    "##\n",
    "\n",
    "How does simulation perform as function of $P$?"
   ]
  },
  {
   "cell_type": "code",
   "execution_count": 27,
   "id": "6de595bf-6f1c-4dc6-a03d-3c09fca675d8",
   "metadata": {},
   "outputs": [],
   "source": [
    "#| classes: fragment\n",
    "import time\n",
    "\n",
    "Ps = [1, 2, 4, 8]\n",
    "runtimes = []\n",
    "for P in Ps:\n",
    "    start = time.time()\n",
    "    simulate(P, 64, 3, 300, 1.0, 1e-3)\n",
    "    stop = time.time()\n",
    "    runtimes.append(stop - start)"
   ]
  },
  {
   "cell_type": "code",
   "execution_count": 24,
   "id": "af191c98-eb0d-4045-a8d3-227fd9424fa1",
   "metadata": {},
   "outputs": [
    {
     "data": {
      "image/png": "[encoded data removed]",
      "text/plain": [
       "<Figure size 640x480 with 1 Axes>"
      ]
     },
     "metadata": {},
     "output_type": "display_data"
    }
   ],
   "source": [
    "#| classes: fragment\n",
    "#| output-location: slide\n",
    "\n",
    "import matplotlib.pyplot as plt\n",
    "plt.plot(Ps, runtimes, 'o')\n",
    "plt.xlabel('Number of threads')\n",
    "plt.ylabel('Runtime (s)')\n",
    "plt.grid(True)\n",
    "plt.show()"
   ]
  },
  {
   "cell_type": "markdown",
   "id": "80a47edf-72c3-46a8-a4c7-c64c5cfcd7cc",
   "metadata": {},
   "source": [
    "## Multiprocessing\n",
    "\n",
    "::: fragment\n",
    "More like threading available in other languages...\n",
    "::: \n",
    "\n",
    "::: fragment\n",
    "Can't be used directly from interactive interpreter; main module must be importable by fork processes\n",
    "::: \n",
    "\n",
    "::: fragment\n",
    "Provides `Pool` class for us, used with powerful `map()` function.\n",
    "::: \n",
    "\n",
    "---\n",
    "\n",
    "```python\n",
    "{{< include nbody_multiprocessing.py >}}\n",
    "```"
   ]
  },
  {
   "cell_type": "markdown",
   "id": "ef4dbfff-bd86-4dc4-b281-8423879c7a5f",
   "metadata": {},
   "source": [
    "## How does `multiprocessing` scale?"
   ]
  },
  {
   "cell_type": "code",
   "execution_count": 21,
   "id": "856af7e2-e0e8-460f-b18a-0ae521409177",
   "metadata": {},
   "outputs": [],
   "source": [
    "from nbody_multiprocessing import simulate\n",
    "\n",
    "Ps = np.array([1, 2, 4, 8, 16])\n",
    "runtimes = []\n",
    "for P in Ps:\n",
    "    start = time.time()\n",
    "    simulate(P, 512, 3, 300, 1.0, 1e-3)\n",
    "    stop = time.time()\n",
    "    runtimes.append(stop - start)"
   ]
  },
  {
   "cell_type": "code",
   "execution_count": 22,
   "id": "363c04b2-cc9a-4cf8-8d30-a3b0faeaf4d1",
   "metadata": {},
   "outputs": [
    {
     "data": {
      "image/png": "[encoded data removed]",
      "text/plain": [
       "<Figure size 640x480 with 1 Axes>"
      ]
     },
     "metadata": {},
     "output_type": "display_data"
    }
   ],
   "source": [
    "#| classes: fragment\n",
    "#| output-location: slide\n",
    "\n",
    "plt.plot(Ps, runtimes, 'o', label='Measured runtime')\n",
    "plt.plot(Ps, runtimes[0] / Ps, label='Ideal scaling')\n",
    "plt.xlabel('Number of processes')\n",
    "plt.ylabel('Runtime (s)')\n",
    "plt.legend()\n",
    "plt.grid(True)\n",
    "plt.show()"
   ]
  },
  {
   "cell_type": "markdown",
   "id": "cb975a6c-554e-4f5c-97f0-cd486eca8f66",
   "metadata": {},
   "source": [
    "# Other options for parallelism\n",
    "\n",
    "## MPI: Message-Passing Interface\n",
    "\n",
    "::: fragment\n",
    "Supercomputing is built on MPI.\n",
    "::: \n",
    "\n",
    "::: fragment\n",
    "MPI scales from hundreds of thousands to millions of processors.\n",
    "::: \n",
    "\n",
    "::: fragment\n",
    "Processes are called ranks and given integer identifiers; rank 0 is usually the \"main\" that controls other ranks. All about communication.\n",
    "::: \n",
    "\n",
    "::: fragment\n",
    "Can be used in Python and NumPy arrays with `mpi4py`\n",
    "::: \n",
    "\n",
    "## Numba\n",
    "\n",
    "::: fragment\n",
    "Numba is a just-in-time compiler for Python/NumPy\n",
    "::: \n",
    "\n",
    "::: fragment\n",
    "It translates Python functions to optimized machine code at runtime using the LLVM compiler—but does not require a separate compiler, just decorators\n",
    "::: \n",
    "\n",
    "::: fragment\n",
    "can automatically parallelize loops\n",
    "::: \n",
    "\n",
    "##\n",
    "\n",
    "```python\n",
    "from numba import jit\n",
    "import random\n",
    "\n",
    "@jit(nopython=True)\n",
    "def monte_carlo_pi(nsamples):\n",
    "    acc = 0\n",
    "    for i in range(nsamples):\n",
    "        x = random.random()\n",
    "        y = random.random()\n",
    "        if (x ** 2 + y ** 2) < 1.0:\n",
    "            acc += 1\n",
    "    return 4.0 * acc / nsamples\n",
    "```"
   ]
  },
  {
   "cell_type": "markdown",
   "id": "5293cfd4-0ba2-4148-be17-c3fd8b240a08",
   "metadata": {},
   "source": [
    "# Takeaways\n",
    "\n",
    "::: fragment\n",
    "If your problem calls for it, consider parallelizing.\n",
    "::: \n",
    "\n",
    "::: fragment\n",
    "That said, do not jump here, when implementing smart NumPy array operations, appropriate data structures, or existing solutions may suffice.\n",
    "::: "
   ]
  }
 ],
 "metadata": {
  "kernelspec": {
   "display_name": "Python 3 (ipykernel)",
   "language": "python",
   "name": "python3"
  },
  "language_info": {
   "codemirror_mode": {
    "name": "ipython",
    "version": 3
   },
   "file_extension": ".py",
   "mimetype": "text/x-python",
   "name": "python",
   "nbconvert_exporter": "python",
   "pygments_lexer": "ipython3",
   "version": "3.13.1"
  }
 },
 "nbformat": 4,
 "nbformat_minor": 5
}
