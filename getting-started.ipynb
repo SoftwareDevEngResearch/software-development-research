{
 "cells": [
  {
   "cell_type": "raw",
   "id": "9d81d74f-ed4b-41c1-86de-4f41c0e40daf",
   "metadata": {
    "vscode": {
     "languageId": "raw"
    }
   },
   "source": [
    "---\n",
    "title: \"Getting Started\"\n",
    "subtitle: \"ENGR 570 - Software Development for Research\"\n",
    "author: \"Kyle Niemeyer\"\n",
    "date: \"6 January 2025\"\n",
    "institute: \"Oregon State University\"\n",
    "format:\n",
    "  revealjs:\n",
    "    output-file: getting-started-revealjs.html\n",
    "    incremental: true\n",
    "    fig-align: center\n",
    "    fig-responsive: true\n",
    "  html: default\n",
    "jupyter: python3\n",
    "---"
   ]
  },
  {
   "cell_type": "markdown",
   "id": "7a94f3cb-49c0-4f4c-a813-1b275064c424",
   "metadata": {},
   "source": [
    "# Overview of class and introductions\n",
    "\n",
    "## What this class **is** for:\n",
    "\n",
    "- Learning computational skills to be successful in modern research\n",
    "- Developing a software package from scratch for your research\n",
    "\n",
    "::: {.content-visible when-format=\"revealjs\"}\n",
    "::: aside \n",
    "This class is only intended for MS and PhD students working on thesis/dissertation research.\n",
    ":::\n",
    ":::\n",
    "\n",
    "## What this class **isn't** for:\n",
    "\n",
    "- Learning how to program in Python\n",
    "- Those who aren't comfortable doing open-ended, self-directed work.\n",
    "\n",
    "::: {.content-visible when-format=\"revealjs\"}\n",
    "::: aside \n",
    "Though you **will** learn more about programming and Python, you absolutely need to have some skills already.\n",
    ":::\n",
    ":::\n",
    "\n",
    "## Motivation\n",
    "\n",
    "Nearly all research relies on software—even experimental—but researchers don't get trained in best practices in the same way as experimental methods.\n",
    "\n",
    "## What are we going to learn about?\n",
    "\n",
    "- Computational environment management\n",
    "- Version control\n",
    "- Collaborative software development\n",
    "- Structuring programs\n",
    "- Working with files\n",
    "- Improving performance, parallelization\n",
    "- Reproducible research\n",
    "- Writing about software, documentation\n",
    "- Sharing software openly, copyright\n",
    "\n",
    "## Anything missing?"
   ]
  },
  {
   "cell_type": "markdown",
   "id": "f626465a-da1e-41d9-8674-2c6945219250",
   "metadata": {},
   "source": [
    "# Introductions\n",
    "\n",
    "## Who are you? Quick introductions\n",
    "\n",
    "- Majors / research areas?\n",
    "- Experience level in Python / programming\n",
    "- Experience level with command line\n",
    "- Mac, Linux, or Windows?\n",
    "\n",
    "## Who am I?\n",
    "\n",
    "![](./images/Niemeyer-Kyle-square-small.jpg){.r-stretch fig-alt=\"Photo of Kyle Niemeyer\"}\n",
    "\n",
    "Dr. Kyle Niemeyer, Associate Professor of Mechanical Engineering\n",
    "\n",
    "**Background:** computational combustion modeling, fluid dynamics\n",
    "\n",
    "**Languages:** Matlab -> Fortran -> C/C++/CUDA -> Python"
   ]
  },
  {
   "cell_type": "markdown",
   "id": "3cea1837-7fa7-48de-8964-bae211be270d",
   "metadata": {},
   "source": [
    "# Course Resources\n",
    "\n",
    "## Online resources\n",
    "\n",
    "- Syllabus: on Canvas\n",
    "- GitHub organization: <https://github.com/SoftwareDevEngResearch>\n",
    "- Other resources: linked on Canvas\n",
    "- Slack chat room (linked on Canvas)\n",
    "\n",
    "## Textbook\n",
    "\n",
    "![](./images/effective-comp-physics.jpg){.r-stretch fig-alt=\"Effective Computation in Physics book\"}\n",
    "\n",
    "[http://physics.codes/](http://physics.codes/)\n",
    "\n",
    "Chapters 1–6 should be review\n",
    "\n",
    "## Project\n",
    "\n",
    "Most of your work in the class will be centered around a project developing a new software package for your research.\n",
    "\n",
    "Assignments will focus on development stages for your software package.\n",
    "\n",
    "First assignment: project proposal, due January 17."
   ]
  }
 ],
 "metadata": {
  "kernelspec": {
   "display_name": "Python 3 (ipykernel)",
   "language": "python",
   "name": "python3"
  },
  "language_info": {
   "codemirror_mode": {
    "name": "ipython",
    "version": 3
   },
   "file_extension": ".py",
   "mimetype": "text/x-python",
   "name": "python",
   "nbconvert_exporter": "python",
   "pygments_lexer": "ipython3",
   "version": "3.13.1"
  }
 },
 "nbformat": 4,
 "nbformat_minor": 5
}
